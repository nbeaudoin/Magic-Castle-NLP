{
 "cells": [
  {
   "cell_type": "markdown",
   "metadata": {},
   "source": [
    "# Goal\n",
    "\n",
    "Create a sentiment tool for Yelp reviews\n",
    "\n",
    "Sources:\n",
    " - https://www.nicholasrenotte.com/how-to-build-a-sentiment-analyser-for-yelp-reviews-in-python/\n",
    " - https://www.kaggle.com/helalehalimohamadi/sentiment-analysis-of-yelp-reviews-nlp\n",
    " - https://github.com/julie-jiang/yelp-reviews-sentiment-analysis/edit/master/README.md\n",
    " - https://towardsdatascience.com/text-mining-and-sentiment-analysis-for-yelp-reviews-of-a-burger-chain-6d3bcfcab17b"
   ]
  },
  {
   "cell_type": "code",
   "execution_count": 1,
   "metadata": {},
   "outputs": [
    {
     "name": "stderr",
     "output_type": "stream",
     "text": [
      "[nltk_data] Downloading package vader_lexicon to\n",
      "[nltk_data]     /Users/nicholasbeaudoin/nltk_data...\n",
      "[nltk_data]   Package vader_lexicon is already up-to-date!\n"
     ]
    },
    {
     "data": {
      "text/plain": [
       "True"
      ]
     },
     "execution_count": 1,
     "metadata": {},
     "output_type": "execute_result"
    }
   ],
   "source": [
    "import numpy as np\n",
    "import pandas as pd\n",
    "import seaborn as sns\n",
    "import matplotlib.pyplot as plt\n",
    "import nltk\n",
    "import string\n",
    "import collections\n",
    "\n",
    "from nltk.corpus import stopwords\n",
    "from textblob import Word\n",
    "from textblob import TextBlob\n",
    "\n",
    "pd.set_option('display.max_rows', 500)\n",
    "pd.set_option('display.max_colwidth', 1000)\n",
    "\n",
    "nltk.download('vader_lexicon')"
   ]
  },
  {
   "cell_type": "code",
   "execution_count": 2,
   "metadata": {},
   "outputs": [],
   "source": [
    "# Create a function to calculate the error metrics, since we'll be doing this several times\n",
    "from sklearn.metrics import confusion_matrix\n",
    "import matplotlib.pyplot as plt\n",
    "import seaborn as sns\n",
    "%matplotlib inline\n",
    "\n",
    "def conf_matrix(actual, predicted):\n",
    "    cm = confusion_matrix(actual, predicted)\n",
    "    sns.heatmap(cm, xticklabels=['predicted_negative', 'predicted_positive'], \n",
    "                yticklabels=['actual_negative', 'actual_positive'], annot=True,\n",
    "                fmt='d', annot_kws={'fontsize':20}, cmap=\"YlGnBu\");\n",
    "\n",
    "    true_neg, false_pos = cm[0]\n",
    "    false_neg, true_pos = cm[1]\n",
    "\n",
    "    accuracy = round((true_pos + true_neg) / (true_pos + true_neg + false_pos + false_neg),3)\n",
    "    precision = round((true_pos) / (true_pos + false_pos),3)\n",
    "    recall = round((true_pos) / (true_pos + false_neg),3)\n",
    "    f1 = round(2 * (precision * recall) / (precision + recall),3)\n",
    "\n",
    "    cm_results = [accuracy, precision, recall, f1]\n",
    "    return cm_results"
   ]
  },
  {
   "cell_type": "markdown",
   "metadata": {},
   "source": [
    "## Data import"
   ]
  },
  {
   "cell_type": "code",
   "execution_count": 3,
   "metadata": {},
   "outputs": [],
   "source": [
    "df = pd.read_csv('Magic_Castle_Reviews.csv', index_col=\"Unnamed: 0\").reset_index(drop=True)"
   ]
  },
  {
   "cell_type": "code",
   "execution_count": 4,
   "metadata": {},
   "outputs": [
    {
     "data": {
      "text/html": [
       "<div>\n",
       "<style scoped>\n",
       "    .dataframe tbody tr th:only-of-type {\n",
       "        vertical-align: middle;\n",
       "    }\n",
       "\n",
       "    .dataframe tbody tr th {\n",
       "        vertical-align: top;\n",
       "    }\n",
       "\n",
       "    .dataframe thead th {\n",
       "        text-align: right;\n",
       "    }\n",
       "</style>\n",
       "<table border=\"1\" class=\"dataframe\">\n",
       "  <thead>\n",
       "    <tr style=\"text-align: right;\">\n",
       "      <th></th>\n",
       "      <th>Date</th>\n",
       "      <th>Review</th>\n",
       "      <th>Rating</th>\n",
       "    </tr>\n",
       "  </thead>\n",
       "  <tbody>\n",
       "    <tr>\n",
       "      <th>0</th>\n",
       "      <td>9/11/2019</td>\n",
       "      <td>So this place gets a lot of love, and a bit of hate, too.  I didn't love it but I definitely didn't hate it.  It's an interesting place, for sure.The building itself is gorgeous.  It's beautiful on the outside and spectacular on the inside.  I'm pretty sure I read that the building itself is over 100 years old.  The business inside (the Magic Castle) has been operating for decades.I know they call themselves a \"private club\" and you have to be \"invited\" to get in (or stay at the Magic Castle Hotel next door, like we did) but I personally find the admissions policy a bit obnoxious.  It certainly didn't feel like a private club.  But it is what it is. Everyone has tips on how to get an invitation.  I got nothing for you on that one, folks.Yes, it's expensive.  Everyone gets charged an admission fee.  Let's just call that your \"show\" price.  Everyone is also forced to pay for either brunch (on the weekends) or dinner.  It's all you can eat for brunch but it's pricey, pretty much like ...</td>\n",
       "      <td>4 star rating</td>\n",
       "    </tr>\n",
       "    <tr>\n",
       "      <th>1</th>\n",
       "      <td>11/1/2020</td>\n",
       "      <td>this was my favorite place to visit by far other than Disneyland, I always wanted to go to the magic castle since I was 6 years old watching magic videos cassettes on VHS and to know I finally did with my beautiful wife Evelyn it was meant to be, one day we will be magic members that's for sure. I am still in love with this place the vibe was incredible and the magic superb, oh plus the food A+ the waiters were on point and very educated, I had the tomahawk steak OMG the best steak ever the meat was so tender to the bone I also really like the fact there's no photos inside so everyone stays socially connected with each other and focus on the magic I really didn't want to leave but the night was done, one can only dream again to visit this place the next goal is to be a member of this wonderful place called the Magic Castle</td>\n",
       "      <td>5 star rating</td>\n",
       "    </tr>\n",
       "    <tr>\n",
       "      <th>2</th>\n",
       "      <td>2/9/2020</td>\n",
       "      <td>The Magic Castle (Hollywood, CA)I had this place bookmarked,for as long as I remember.But to get in here,you must be a member. Or you can be a guest of one,that's how we got in.For a night full of magic,and even some din. Here are the rules,so you don't get the boot.Dress code is enforced,so I bought a suit.Pictures aren't allowed,once you're inside this castle.If you're a Yelper or on IG,this can be a hassle. We started at the lobby,then ventured around.Every room had that excitement,like there's magic abound.A lot of card magic,the magicians are slick.Magic is more than an illusion,it's more than a trick.These magicians are skilled,and highly trained.They work hard at their craft,Are you not entertained? More than entertained I was,from the beginning to the end.I admit I was amazed,I can't even pretend.One thing I noticed,every one had a drink.There's a bar everywhere,in almost every room, I think. We also had dinner,as I earlier stated.I heard the food was pricey,and a bit overr...</td>\n",
       "      <td>4 star rating</td>\n",
       "    </tr>\n",
       "    <tr>\n",
       "      <th>3</th>\n",
       "      <td>1/23/2020</td>\n",
       "      <td>I recently had the pleasure of visiting the Magic Castle with 10 people during the holiday season -- and two of them were celebrating birthdays that month, which is apparently a huge deal here. Now a first-timer to the Castle (Isn't everyone else, though?), I outlined a few lessons that I learned (sometimes the hard way) by the end of my magical evening:1. Expect to wait on hold for a long time to make or modify a reservation. I waited 27 minutes to make my reservation, and 52 minutes to modify my reservation from 15 to 11 people. Wow, that was not fun. The hold music is pretty lame, too.2. You have to order an entree from the dinner menu, but there are a variety of choices. And, per my friends, it's all quite delicious. I had the pasta -- great size, great taste. Prices are pretty high, but so is everything else here.3. Make a schedule, but don't expect to stick to it. We had a vague idea of what we would be doing that night, and we deviated from it quite a bit. For one, we didn't...</td>\n",
       "      <td>4 star rating</td>\n",
       "    </tr>\n",
       "    <tr>\n",
       "      <th>4</th>\n",
       "      <td>7/22/2019</td>\n",
       "      <td>So i learned a couple more new things throughout my visits to the Magic Castle. Every bar serves desserts, quick bites and appetizers, but the coolest bar, in my opinion is the one that is on the right of the top of the stairs. The reason that particular bar is my favorite especially when taking first timers is because you can ask the owl yes or no questions. THATS RIGHT. you can ask him questions. another cool thing is behind the first bar when you enter, there is a room where the piano is. Maybe if you want to change or set the mood, you can actually request songs. Be polite, her name is Irma. You dont have to go around the room to order a drink either, you can order from the little window that opens to the bar. I may have to reiterate that the castle does open at 5, and you dont have to show up at the same time as your dinner appointment. You can actually show up a lot earlier, so you can still enjoy the early shows, catch dinner while you're there and then stay and watch the re...</td>\n",
       "      <td>5 star rating</td>\n",
       "    </tr>\n",
       "  </tbody>\n",
       "</table>\n",
       "</div>"
      ],
      "text/plain": [
       "        Date  \\\n",
       "0  9/11/2019   \n",
       "1  11/1/2020   \n",
       "2   2/9/2020   \n",
       "3  1/23/2020   \n",
       "4  7/22/2019   \n",
       "\n",
       "                                                                                                                                                                                                                                                                                                                                                                                                                                                                                                                                                                                                                                                                                                                                                                                                                                                                                                                                                                                                                                    Review  \\\n",
       "0  So this place gets a lot of love, and a bit of hate, too.  I didn't love it but I definitely didn't hate it.  It's an interesting place, for sure.The building itself is gorgeous.  It's beautiful on the outside and spectacular on the inside.  I'm pretty sure I read that the building itself is over 100 years old.  The business inside (the Magic Castle) has been operating for decades.I know they call themselves a \"private club\" and you have to be \"invited\" to get in (or stay at the Magic Castle Hotel next door, like we did) but I personally find the admissions policy a bit obnoxious.  It certainly didn't feel like a private club.  But it is what it is. Everyone has tips on how to get an invitation.  I got nothing for you on that one, folks.Yes, it's expensive.  Everyone gets charged an admission fee.  Let's just call that your \"show\" price.  Everyone is also forced to pay for either brunch (on the weekends) or dinner.  It's all you can eat for brunch but it's pricey, pretty much like ...   \n",
       "1                                                                                                                                                                       this was my favorite place to visit by far other than Disneyland, I always wanted to go to the magic castle since I was 6 years old watching magic videos cassettes on VHS and to know I finally did with my beautiful wife Evelyn it was meant to be, one day we will be magic members that's for sure. I am still in love with this place the vibe was incredible and the magic superb, oh plus the food A+ the waiters were on point and very educated, I had the tomahawk steak OMG the best steak ever the meat was so tender to the bone I also really like the fact there's no photos inside so everyone stays socially connected with each other and focus on the magic I really didn't want to leave but the night was done, one can only dream again to visit this place the next goal is to be a member of this wonderful place called the Magic Castle   \n",
       "2  The Magic Castle (Hollywood, CA)I had this place bookmarked,for as long as I remember.But to get in here,you must be a member. Or you can be a guest of one,that's how we got in.For a night full of magic,and even some din. Here are the rules,so you don't get the boot.Dress code is enforced,so I bought a suit.Pictures aren't allowed,once you're inside this castle.If you're a Yelper or on IG,this can be a hassle. We started at the lobby,then ventured around.Every room had that excitement,like there's magic abound.A lot of card magic,the magicians are slick.Magic is more than an illusion,it's more than a trick.These magicians are skilled,and highly trained.They work hard at their craft,Are you not entertained? More than entertained I was,from the beginning to the end.I admit I was amazed,I can't even pretend.One thing I noticed,every one had a drink.There's a bar everywhere,in almost every room, I think. We also had dinner,as I earlier stated.I heard the food was pricey,and a bit overr...   \n",
       "3  I recently had the pleasure of visiting the Magic Castle with 10 people during the holiday season -- and two of them were celebrating birthdays that month, which is apparently a huge deal here. Now a first-timer to the Castle (Isn't everyone else, though?), I outlined a few lessons that I learned (sometimes the hard way) by the end of my magical evening:1. Expect to wait on hold for a long time to make or modify a reservation. I waited 27 minutes to make my reservation, and 52 minutes to modify my reservation from 15 to 11 people. Wow, that was not fun. The hold music is pretty lame, too.2. You have to order an entree from the dinner menu, but there are a variety of choices. And, per my friends, it's all quite delicious. I had the pasta -- great size, great taste. Prices are pretty high, but so is everything else here.3. Make a schedule, but don't expect to stick to it. We had a vague idea of what we would be doing that night, and we deviated from it quite a bit. For one, we didn't...   \n",
       "4  So i learned a couple more new things throughout my visits to the Magic Castle. Every bar serves desserts, quick bites and appetizers, but the coolest bar, in my opinion is the one that is on the right of the top of the stairs. The reason that particular bar is my favorite especially when taking first timers is because you can ask the owl yes or no questions. THATS RIGHT. you can ask him questions. another cool thing is behind the first bar when you enter, there is a room where the piano is. Maybe if you want to change or set the mood, you can actually request songs. Be polite, her name is Irma. You dont have to go around the room to order a drink either, you can order from the little window that opens to the bar. I may have to reiterate that the castle does open at 5, and you dont have to show up at the same time as your dinner appointment. You can actually show up a lot earlier, so you can still enjoy the early shows, catch dinner while you're there and then stay and watch the re...   \n",
       "\n",
       "          Rating  \n",
       "0  4 star rating  \n",
       "1  5 star rating  \n",
       "2  4 star rating  \n",
       "3  4 star rating  \n",
       "4  5 star rating  "
      ]
     },
     "execution_count": 4,
     "metadata": {},
     "output_type": "execute_result"
    }
   ],
   "source": [
    "df.head()"
   ]
  },
  {
   "cell_type": "markdown",
   "metadata": {},
   "source": [
    "## Feature engineering"
   ]
  },
  {
   "cell_type": "code",
   "execution_count": 5,
   "metadata": {},
   "outputs": [],
   "source": [
    "# Create length of tweet feature\n",
    "df['char_length'] = df['Review'].str.len()"
   ]
  },
  {
   "cell_type": "code",
   "execution_count": 6,
   "metadata": {},
   "outputs": [],
   "source": [
    "# Create word length feature\n",
    "df['word_length'] = df['Review'].str.split().str.len()"
   ]
  },
  {
   "cell_type": "code",
   "execution_count": 7,
   "metadata": {},
   "outputs": [
    {
     "data": {
      "text/plain": [
       "'4 star rating'"
      ]
     },
     "execution_count": 7,
     "metadata": {},
     "output_type": "execute_result"
    }
   ],
   "source": [
    "# Look at what star rating string is\n",
    "df['Rating'][0]"
   ]
  },
  {
   "cell_type": "code",
   "execution_count": 8,
   "metadata": {},
   "outputs": [],
   "source": [
    "# Clean up 'Rating'\n",
    "df['stars'] = df['Rating'].astype(str).str[0]"
   ]
  },
  {
   "cell_type": "code",
   "execution_count": 9,
   "metadata": {},
   "outputs": [
    {
     "data": {
      "text/plain": [
       "dtype('int64')"
      ]
     },
     "execution_count": 9,
     "metadata": {},
     "output_type": "execute_result"
    }
   ],
   "source": [
    "# Convert stars to integers\n",
    "df['stars'] = pd.to_numeric(df['stars'])\n",
    "df['stars'].dtype"
   ]
  },
  {
   "cell_type": "code",
   "execution_count": 10,
   "metadata": {},
   "outputs": [
    {
     "data": {
      "text/plain": [
       "2344"
      ]
     },
     "execution_count": 10,
     "metadata": {},
     "output_type": "execute_result"
    }
   ],
   "source": [
    "# Number of reviews\n",
    "len(df)"
   ]
  },
  {
   "cell_type": "code",
   "execution_count": 11,
   "metadata": {},
   "outputs": [
    {
     "data": {
      "image/png": "[encoded data removed]",
      "text/plain": [
       "<Figure size 432x288 with 1 Axes>"
      ]
     },
     "metadata": {
      "needs_background": "light"
     },
     "output_type": "display_data"
    }
   ],
   "source": [
    "bins = [1, 2,3 ,4, 5, 6]\n",
    "df.stars.hist(bins=bins, align='left', width=0.93)\n",
    "plt.xticks(bins)\n",
    "plt.xlabel('Rating stars')\n",
    "plt.ylabel('Number of reviews')\n",
    "plt.show()"
   ]
  },
  {
   "cell_type": "code",
   "execution_count": 12,
   "metadata": {},
   "outputs": [],
   "source": [
    "# Remove 3 star reviews\n",
    "df = df[df.stars!=3]\n",
    "df = df[df.stars!=2]\n",
    "df = df[df.stars!=4]"
   ]
  },
  {
   "cell_type": "code",
   "execution_count": 13,
   "metadata": {},
   "outputs": [
    {
     "data": {
      "text/plain": [
       "1334"
      ]
     },
     "execution_count": 13,
     "metadata": {},
     "output_type": "execute_result"
    }
   ],
   "source": [
    "# Number of reviews post star removal\n",
    "len(df)"
   ]
  },
  {
   "cell_type": "code",
   "execution_count": 14,
   "metadata": {},
   "outputs": [],
   "source": [
    "# Set 4/5 star reviews to positive, the rest to negative\n",
    "df['sentiment'] = np.where(df['stars'] >= 4, 'positive', 'negative')"
   ]
  },
  {
   "cell_type": "markdown",
   "metadata": {},
   "source": [
    "## EDA"
   ]
  },
  {
   "cell_type": "code",
   "execution_count": 15,
   "metadata": {},
   "outputs": [
    {
     "name": "stderr",
     "output_type": "stream",
     "text": [
      "/Users/nicholasbeaudoin/anaconda3/lib/python3.7/site-packages/pandas/plotting/_converter.py:129: FutureWarning: Using an implicitly registered datetime converter for a matplotlib plotting method. The converter was registered by pandas on import. Future versions of pandas will require you to explicitly register matplotlib converters.\n",
      "\n",
      "To register the converters:\n",
      "\t>>> from pandas.plotting import register_matplotlib_converters\n",
      "\t>>> register_matplotlib_converters()\n",
      "  warnings.warn(msg, FutureWarning)\n"
     ]
    },
    {
     "data": {
      "image/png": "[encoded data removed]",
      "text/plain": [
       "<Figure size 432x288 with 1 Axes>"
      ]
     },
     "metadata": {
      "needs_background": "light"
     },
     "output_type": "display_data"
    }
   ],
   "source": [
    "import matplotlib.pyplot as plt\n",
    "\n",
    "df['Date'] = pd.to_datetime(df['Date'])\n",
    "df1 = df.set_index('Date')\n",
    "plt.plot(df1['Review'].resample('M').count())\n",
    "plt.xlabel('Year')\n",
    "plt.ylabel('Number of reviews')\n",
    "plt.title('Number of reviews per month')\n",
    "plt.show()"
   ]
  },
  {
   "cell_type": "code",
   "execution_count": 16,
   "metadata": {},
   "outputs": [
    {
     "data": {
      "image/png": "[encoded data removed]",
      "text/plain": [
       "<Figure size 432x288 with 1 Axes>"
      ]
     },
     "metadata": {
      "needs_background": "light"
     },
     "output_type": "display_data"
    }
   ],
   "source": [
    "bins = [1, 2,3 ,4, 5, 6]\n",
    "df.stars.hist(bins=bins, align='left', width=0.93)\n",
    "plt.xticks(bins)\n",
    "plt.xlabel('Rating stars')\n",
    "plt.ylabel('Number of snreviews')\n",
    "plt.show()"
   ]
  },
  {
   "cell_type": "code",
   "execution_count": 17,
   "metadata": {},
   "outputs": [
    {
     "data": {
      "image/png": "[encoded data removed]",
      "text/plain": [
       "<Figure size 432x288 with 1 Axes>"
      ]
     },
     "metadata": {
      "needs_background": "light"
     },
     "output_type": "display_data"
    }
   ],
   "source": [
    "import seaborn as sns\n",
    "ax = sns.barplot(data=df, x='stars', y='stars', estimator=lambda x: len(x) / len(df) * 100)\n",
    "ax.set(ylabel=\"Percent\")\n",
    "plt.title('Distribution of Customer Rating')\n",
    "plt.show()"
   ]
  },
  {
   "cell_type": "code",
   "execution_count": 18,
   "metadata": {},
   "outputs": [
    {
     "data": {
      "text/plain": [
       "positive    0.874063\n",
       "negative    0.125937\n",
       "Name: sentiment, dtype: float64"
      ]
     },
     "execution_count": 18,
     "metadata": {},
     "output_type": "execute_result"
    }
   ],
   "source": [
    "# Note that the dataset has mostly positive reviews\n",
    "df.sentiment.value_counts(normalize=True)"
   ]
  },
  {
   "cell_type": "code",
   "execution_count": 19,
   "metadata": {},
   "outputs": [],
   "source": [
    "# Create target variable\n",
    "df['target'] = np.where(df['sentiment'] == 'positive', 1, 0)"
   ]
  },
  {
   "cell_type": "code",
   "execution_count": 20,
   "metadata": {},
   "outputs": [
    {
     "data": {
      "image/png": "[encoded data removed]",
      "text/plain": [
       "<Figure size 720x432 with 1 Axes>"
      ]
     },
     "metadata": {
      "needs_background": "light"
     },
     "output_type": "display_data"
    }
   ],
   "source": [
    "# Compare the number of words between positive and negative reviews\n",
    "\n",
    "negative = df[df['target'] == 0]['char_length']\n",
    "positive = df[df['target'] == 1]['char_length']\n",
    "\n",
    "\n",
    "fig = plt.figure(figsize=(10,6))\n",
    "\n",
    "g = sns.distplot(negative, hist=True, kde=True, \n",
    "             bins=int(180/5), color = 'darkblue', \n",
    "             hist_kws={'edgecolor':'black'},\n",
    "             kde_kws={'linewidth': 4})\n",
    "\n",
    "g = sns.distplot(positive, hist=True, kde=True, \n",
    "             bins=int(180/5), color = 'darkred', \n",
    "             hist_kws={'edgecolor':'red'},\n",
    "             kde_kws={'linewidth': 4})\n",
    "\n",
    "fig.legend(labels=['positive','negative'])\n",
    "g.set_title('Review Character Count')\n",
    "plt.show()"
   ]
  },
  {
   "cell_type": "markdown",
   "metadata": {},
   "source": [
    "## Text cleaning"
   ]
  },
  {
   "cell_type": "code",
   "execution_count": 21,
   "metadata": {},
   "outputs": [],
   "source": [
    "# Calculate number of stopwords\n",
    "stop_words = stopwords.words('english')\n",
    "\n",
    "df['stopword_coun'] = df['Review'].apply(lambda x: len([x for x in x.split() if x in stop_words]))"
   ]
  },
  {
   "cell_type": "code",
   "execution_count": 22,
   "metadata": {},
   "outputs": [],
   "source": [
    "# Lower case all words\n",
    "df['review_lower'] = df['Review'].apply(lambda x: \" \".join(x.lower() for x in x.split()))"
   ]
  },
  {
   "cell_type": "code",
   "execution_count": 23,
   "metadata": {},
   "outputs": [],
   "source": [
    "# Remove Punctuation\n",
    "df['review_nopunc'] = df['review_lower'].str.replace('[^\\w\\s]', '')"
   ]
  },
  {
   "cell_type": "code",
   "execution_count": 24,
   "metadata": {},
   "outputs": [],
   "source": [
    "# Remove Stopwords\n",
    "df['review_nopunc_nostop'] = df['review_nopunc'].apply(lambda x: \" \".join(x for x in x.split() if x not in stop_words))"
   ]
  },
  {
   "cell_type": "code",
   "execution_count": 25,
   "metadata": {},
   "outputs": [],
   "source": [
    "# Return frequency of values\n",
    "freq = pd.Series(\" \".join(df['review_nopunc_nostop']).split()).value_counts()[:20]"
   ]
  },
  {
   "cell_type": "code",
   "execution_count": 26,
   "metadata": {
    "scrolled": true
   },
   "outputs": [
    {
     "data": {
      "text/plain": [
       "<matplotlib.axes._subplots.AxesSubplot at 0x7fd617c14160>"
      ]
     },
     "execution_count": 26,
     "metadata": {},
     "output_type": "execute_result"
    },
    {
     "data": {
      "image/png": "[encoded data removed]",
      "text/plain": [
       "<Figure size 432x288 with 1 Axes>"
      ]
     },
     "metadata": {
      "needs_background": "light"
     },
     "output_type": "display_data"
    }
   ],
   "source": [
    "# Unigram frequency\n",
    "freq.plot(kind='bar')"
   ]
  },
  {
   "cell_type": "code",
   "execution_count": 27,
   "metadata": {},
   "outputs": [],
   "source": [
    "# Bigrams frequency\n",
    "from sklearn.feature_extraction.text import CountVectorizer\n",
    "\n",
    "vect = CountVectorizer(stop_words=stop_words, ngram_range=(2,2))\n",
    "\n",
    "bigrams = vect.fit_transform(df['Review'])\n",
    "bigram_df = pd.DataFrame(bigrams.toarray(), columns=vect.get_feature_names())\n",
    "bigram_frequency = pd.DataFrame(bigram_df.sum(axis=0)).reset_index()\n",
    "bigram_frequency.columns = ['bigram', 'frequency']\n",
    "bigram_frequency = bigram_frequency.sort_values(by='frequency', ascending=False).head(20)"
   ]
  },
  {
   "cell_type": "code",
   "execution_count": 28,
   "metadata": {},
   "outputs": [
    {
     "data": {
      "text/plain": [
       "<matplotlib.axes._subplots.AxesSubplot at 0x7fd618ede668>"
      ]
     },
     "execution_count": 28,
     "metadata": {},
     "output_type": "execute_result"
    },
    {
     "data": {
      "image/png": "[encoded data removed]",
      "text/plain": [
       "<Figure size 432x288 with 1 Axes>"
      ]
     },
     "metadata": {
      "needs_background": "light"
     },
     "output_type": "display_data"
    }
   ],
   "source": [
    "bigram_frequency[['bigram', 'frequency']].plot(x='bigram', kind='barh')"
   ]
  },
  {
   "cell_type": "code",
   "execution_count": 29,
   "metadata": {},
   "outputs": [],
   "source": [
    "# Trigram frequency\n",
    "vect = CountVectorizer(stop_words=stop_words, ngram_range=(3,3))\n",
    "\n",
    "trigram = vect.fit_transform(df['Review'])\n",
    "trigram_df = pd.DataFrame(trigram.toarray(), columns=vect.get_feature_names())\n",
    "trigram_frequency = pd.DataFrame(trigram_df.sum(axis=0)).reset_index()\n",
    "trigram_frequency.columns = ['trigram', 'frequency']\n",
    "trigram_frequency = trigram_frequency.sort_values(by='frequency', ascending=False).head(10)"
   ]
  },
  {
   "cell_type": "code",
   "execution_count": 30,
   "metadata": {},
   "outputs": [
    {
     "data": {
      "text/plain": [
       "<matplotlib.axes._subplots.AxesSubplot at 0x7fd616ca2400>"
      ]
     },
     "execution_count": 30,
     "metadata": {},
     "output_type": "execute_result"
    },
    {
     "data": {
      "image/png": "[encoded data removed]",
      "text/plain": [
       "<Figure size 432x288 with 1 Axes>"
      ]
     },
     "metadata": {
      "needs_background": "light"
     },
     "output_type": "display_data"
    }
   ],
   "source": [
    "trigram_frequency[['trigram', 'frequency']].plot(x='trigram', kind='barh')"
   ]
  },
  {
   "cell_type": "code",
   "execution_count": 31,
   "metadata": {},
   "outputs": [],
   "source": [
    "other_stopwords = ['get', 'us', 'see', 'use', 'said', 'asked', 'day', 'go' \\\n",
    "  'even', 'ive', 'right', 'left', 'always', 'would', 'told', \\\n",
    "  'get', 'us', 'would', 'get', 'one', 'ive', 'go', 'even', \\\n",
    "  'also', 'ever', 'x', 'take', 'let' ]"
   ]
  },
  {
   "cell_type": "code",
   "execution_count": 32,
   "metadata": {},
   "outputs": [],
   "source": [
    "# Remove custom stopwords\n",
    "df['review_nopunc_nostop_nocommon'] = df['review_nopunc_nostop'].apply(lambda x: \"\".join(\" \".join(x for x in x.split() if x not in other_stopwords)))"
   ]
  },
  {
   "cell_type": "code",
   "execution_count": 33,
   "metadata": {},
   "outputs": [],
   "source": [
    "# Lemmatize final review format\n",
    "df['cleaned_review'] = df['review_nopunc_nostop_nocommon'].apply(lambda x: \" \".join([Word(word).lemmatize() for word in x.split()]))"
   ]
  },
  {
   "cell_type": "code",
   "execution_count": 34,
   "metadata": {},
   "outputs": [
    {
     "data": {
      "text/plain": [
       "1                                                                                                                                                                                                                                                                                                                                                                                                                                                                                                                                     favorite place visit far disneyland wanted magic castle since 6 year old watching magic video cassette vhs know finally beautiful wife evelyn meant magic member thats sure still love place vibe incredible magic superb oh plus food waiter point educated tomahawk steak omg best steak meat tender bone really like fact there photo inside everyone stay socially connected focus magic really didnt want leave night done dream visit place next goal member wonderful place called magic castle\n",
       "4                                                                   learned couple new thing throughout visit magic castle every bar serf dessert quick bite appetizer coolest bar opinion top stair reason particular bar favorite especially taking first timer ask owl yes question thats ask question another cool thing behind first bar enter room piano maybe want change set mood actually request song polite name irma dont around room order drink either order little window open bar may reiterate castle open 5 dont show time dinner appointment actually show lot earlier still enjoy early show catch dinner youre stay watch rest show early set magician late set room prestidigitation 6 clock show may different performer 7 clock show different experience lot time havent mastered yet close gallery throughout castle 2 downstairs area 4 room performance youre allowed bring beverage 4 room freely walk 2 got called stage first time never knew magician never seen string attached absolute awe 1010 come back\n",
       "7    nothing difficult secretive los angeles place magic castle truly magical event upon entering worth money trouble ingetting reservation probably difficult part whole ordeal make reservation must either member know magician stay magic castle hotel nearby upon calling make reservation may waiting good time phone expect reservation booked far advance mine took 5 month entrance two way enter either member line non member line small backdrop provides place actually photo enter last photo inside lobby paying entrance fee dont jacket enter provide nice touchthe room come early room enjoy show close dont forget stop bar downstairs awesome show room rotates magician every show bar magician staying main show ticket provided dinner recommend coming early well food exceptional expensive expect pay hefty amount drink dessert well worth top notch overall place worth hassle plan ensure youve got enough money spend correct dress codecome early prior dinner reservation truly soak every show room hou...\n",
       "8                                                                                                                                                                                                                                                                                                                                                                                                                                                                                                                                                                                                                                                                                                                                                                                                           son wonderful experience wanted surprise planned magic castle since interested magic great time watching wonderful performance favorite irma ghost pianist pleased play request canon played beautifully perfectly thank magical\n",
       "9                                                                                                                                                                                                                                                                                                                                                                                                                                                                                     shall favorite place drink hollywood coming year im still discovering little surprise building offer asa ghost play piano keep date favorite tune number well placed well hidden bar interesting bottle unique character top talent providing poursseemingly endless nook cranny enjoy drink card trick intimate conversation long time complaint food lackluster must hired new chef recent year aside overly salted risotto last meal top notch maybe dozen visit im struck find something new dazzle delight bit like disneyland without hour drive\n",
       "Name: cleaned_review, dtype: object"
      ]
     },
     "execution_count": 34,
     "metadata": {},
     "output_type": "execute_result"
    }
   ],
   "source": [
    "df['cleaned_review'].head()"
   ]
  },
  {
   "cell_type": "markdown",
   "metadata": {},
   "source": [
    "## Built-in polarity score"
   ]
  },
  {
   "cell_type": "code",
   "execution_count": 35,
   "metadata": {},
   "outputs": [],
   "source": [
    "# Calculate polarity\n",
    "df['polarity'] = df['cleaned_review'].apply(lambda x: TextBlob(x).sentiment[0])"
   ]
  },
  {
   "cell_type": "markdown",
   "metadata": {},
   "source": [
    "\"The polarity metric refers to the degree to which the text analysed is positive or negative, between a range of -1 to 1. A score of 1 means highly positive whereas -1 is considered well and truly negative.\"\n",
    "\n",
    "https://www.nicholasrenotte.com/how-to-build-a-sentiment-analyser-for-yelp-reviews-in-python/"
   ]
  },
  {
   "cell_type": "code",
   "execution_count": 36,
   "metadata": {},
   "outputs": [
    {
     "data": {
      "text/html": [
       "<div>\n",
       "<style scoped>\n",
       "    .dataframe tbody tr th:only-of-type {\n",
       "        vertical-align: middle;\n",
       "    }\n",
       "\n",
       "    .dataframe tbody tr th {\n",
       "        vertical-align: top;\n",
       "    }\n",
       "\n",
       "    .dataframe thead th {\n",
       "        text-align: right;\n",
       "    }\n",
       "</style>\n",
       "<table border=\"1\" class=\"dataframe\">\n",
       "  <thead>\n",
       "    <tr style=\"text-align: right;\">\n",
       "      <th></th>\n",
       "      <th>stars</th>\n",
       "      <th>polarity</th>\n",
       "    </tr>\n",
       "  </thead>\n",
       "  <tbody>\n",
       "    <tr>\n",
       "      <th>1</th>\n",
       "      <td>5</td>\n",
       "      <td>0.494167</td>\n",
       "    </tr>\n",
       "    <tr>\n",
       "      <th>4</th>\n",
       "      <td>5</td>\n",
       "      <td>0.131439</td>\n",
       "    </tr>\n",
       "    <tr>\n",
       "      <th>7</th>\n",
       "      <td>5</td>\n",
       "      <td>0.213889</td>\n",
       "    </tr>\n",
       "    <tr>\n",
       "      <th>8</th>\n",
       "      <td>5</td>\n",
       "      <td>0.655000</td>\n",
       "    </tr>\n",
       "    <tr>\n",
       "      <th>9</th>\n",
       "      <td>5</td>\n",
       "      <td>0.171680</td>\n",
       "    </tr>\n",
       "  </tbody>\n",
       "</table>\n",
       "</div>"
      ],
      "text/plain": [
       "   stars  polarity\n",
       "1      5  0.494167\n",
       "4      5  0.131439\n",
       "7      5  0.213889\n",
       "8      5  0.655000\n",
       "9      5  0.171680"
      ]
     },
     "execution_count": 36,
     "metadata": {},
     "output_type": "execute_result"
    }
   ],
   "source": [
    "df[['stars', 'polarity']].head()"
   ]
  },
  {
   "cell_type": "code",
   "execution_count": 37,
   "metadata": {},
   "outputs": [
    {
     "data": {
      "image/png": "[encoded data removed]",
      "text/plain": [
       "<Figure size 432x288 with 1 Axes>"
      ]
     },
     "metadata": {
      "needs_background": "light"
     },
     "output_type": "display_data"
    }
   ],
   "source": [
    "sns.boxplot(x=df[\"sentiment\"], y=df[\"polarity\"])\n",
    "plt.show()"
   ]
  },
  {
   "cell_type": "code",
   "execution_count": 38,
   "metadata": {},
   "outputs": [
    {
     "data": {
      "text/html": [
       "<div>\n",
       "<style scoped>\n",
       "    .dataframe tbody tr th:only-of-type {\n",
       "        vertical-align: middle;\n",
       "    }\n",
       "\n",
       "    .dataframe tbody tr th {\n",
       "        vertical-align: top;\n",
       "    }\n",
       "\n",
       "    .dataframe thead th {\n",
       "        text-align: right;\n",
       "    }\n",
       "</style>\n",
       "<table border=\"1\" class=\"dataframe\">\n",
       "  <thead>\n",
       "    <tr style=\"text-align: right;\">\n",
       "      <th></th>\n",
       "      <th>Review</th>\n",
       "      <th>stars</th>\n",
       "      <th>polarity</th>\n",
       "    </tr>\n",
       "  </thead>\n",
       "  <tbody>\n",
       "    <tr>\n",
       "      <th>139</th>\n",
       "      <td>MAGIC!Luckily we had a magician friend who got us in. I heard it's very difficult to get a reservation and even if so, the requirement is to get at least one dinner here in order to access it. That's where they make the money. I heard the dinner is average but very pricey.You feel very privileged being here. No photos are allowed at all time. Do not forget to dress up and wear a tie or bow tie. If you forget one like me, they provide you one at the front desk.There are different shows at a different time so you decide where what you want to see.</td>\n",
       "      <td>5</td>\n",
       "      <td>-0.190000</td>\n",
       "    </tr>\n",
       "    <tr>\n",
       "      <th>756</th>\n",
       "      <td>Super expensive, but worth every dollar. The entertainment and food met all my expectations.  The magic is unreal and you'll be left shocked at some of the tricks these magicians perform.</td>\n",
       "      <td>5</td>\n",
       "      <td>-0.013333</td>\n",
       "    </tr>\n",
       "    <tr>\n",
       "      <th>796</th>\n",
       "      <td>Food is now outstanding.Entertainment is always outstanding.Can improve on crowd control. Difficult to see the shows with thewall to wall people.Very pricey, but you will never find an equivalent show for $30 anywhere.Jack HPlaya Vista</td>\n",
       "      <td>5</td>\n",
       "      <td>-0.500000</td>\n",
       "    </tr>\n",
       "    <tr>\n",
       "      <th>897</th>\n",
       "      <td>YOUR MIND WILL BE BLOWN!! This is now my 4th time at the magic castle and I am already looking forward to my next visit. This is my Disneyland! Your are surrounded by some of the most amazing magicians ever, right in front of your face. The staff is great!I've only had wine here which will run anywhere from $11- $16 a glass but a heavy pour. No casual attire here!Their restaurant has a cool old fashion atmosphere but the food does nothing for me personally, especially for the price. Go here at least once in your life, you won't be disappointed!</td>\n",
       "      <td>5</td>\n",
       "      <td>-0.020000</td>\n",
       "    </tr>\n",
       "    <tr>\n",
       "      <th>1069</th>\n",
       "      <td>This place is to exciting all around the castle there are little rooms and there are different magicians performing I. Each little section. There is also a couple bars and tons to look at each nook and crany has some sort of history to it</td>\n",
       "      <td>5</td>\n",
       "      <td>-0.018750</td>\n",
       "    </tr>\n",
       "    <tr>\n",
       "      <th>1376</th>\n",
       "      <td>Had a terrific time here last night. Food was mediocre, but the experience was fantastic. Our dinner reservation was at 9:45, late but we were able to see both the close-up shows of the night, both the big shows, and even participated in 2 impromptu shows by the magicians there. We spent a little over 6 hours there and never felt rushed to get in line for a show.</td>\n",
       "      <td>5</td>\n",
       "      <td>-0.020833</td>\n",
       "    </tr>\n",
       "    <tr>\n",
       "      <th>1563</th>\n",
       "      <td>Magic was awesome...of courseDrinks we're solid.  The lamb was really, really, bad.  I would stick with the steak of prime rib if you plan on having dinner. Dress code is no joke - don't forget to wear a suit jacket and tie!</td>\n",
       "      <td>5</td>\n",
       "      <td>-0.066667</td>\n",
       "    </tr>\n",
       "    <tr>\n",
       "      <th>1793</th>\n",
       "      <td>The food was a little pricey yet the company and the Castle was well worth every penny.  This experience is one that surpasses mere food but an event.</td>\n",
       "      <td>5</td>\n",
       "      <td>-0.129167</td>\n",
       "    </tr>\n",
       "    <tr>\n",
       "      <th>1884</th>\n",
       "      <td>I was skeptical about going to a venue full of magicians mainly because all of my previous experiences consisted of cheesy Vegas openers or child's parties.  I could not have been more wrong!  Every single act I saw was mindblowingly amazing.  I hate that you have to obtain a pass to get in (or stay at the hotel) because I would come here regularly if I could.  However, the exclusiveness makes it feel casual.  The magicians weren't all \"showbusiness\" on and off the stage, they were there having a good time too.  I also ate dinner at their restaurant and was surprised that it was so good.  Coupled with the late night at the bar, it all ended up being pretty expensive, but it was definitely worth it.</td>\n",
       "      <td>5</td>\n",
       "      <td>-0.049300</td>\n",
       "    </tr>\n",
       "    <tr>\n",
       "      <th>2315</th>\n",
       "      <td>This is the premier mmagical venue in the world. The food is a litle expensive, but it includes the kitchen roaches!! (just kidding) Due to a minor fire the place was remodelated for the better at the start of 2012.</td>\n",
       "      <td>5</td>\n",
       "      <td>-0.043750</td>\n",
       "    </tr>\n",
       "  </tbody>\n",
       "</table>\n",
       "</div>"
      ],
      "text/plain": [
       "                                                                                                                                                                                                                                                                                                                                                                                                                                                                                                                                                                                                                                                                                                                                   Review  \\\n",
       "139                                                                                                                                                               MAGIC!Luckily we had a magician friend who got us in. I heard it's very difficult to get a reservation and even if so, the requirement is to get at least one dinner here in order to access it. That's where they make the money. I heard the dinner is average but very pricey.You feel very privileged being here. No photos are allowed at all time. Do not forget to dress up and wear a tie or bow tie. If you forget one like me, they provide you one at the front desk.There are different shows at a different time so you decide where what you want to see.   \n",
       "756                                                                                                                                                                                                                                                                                                                                                                                                                                                                                                                                           Super expensive, but worth every dollar. The entertainment and food met all my expectations.  The magic is unreal and you'll be left shocked at some of the tricks these magicians perform.   \n",
       "796                                                                                                                                                                                                                                                                                                                                                                                                                                                                                           Food is now outstanding.Entertainment is always outstanding.Can improve on crowd control. Difficult to see the shows with thewall to wall people.Very pricey, but you will never find an equivalent show for $30 anywhere.Jack HPlaya Vista   \n",
       "897                                                                                                                                                                YOUR MIND WILL BE BLOWN!! This is now my 4th time at the magic castle and I am already looking forward to my next visit. This is my Disneyland! Your are surrounded by some of the most amazing magicians ever, right in front of your face. The staff is great!I've only had wine here which will run anywhere from $11- $16 a glass but a heavy pour. No casual attire here!Their restaurant has a cool old fashion atmosphere but the food does nothing for me personally, especially for the price. Go here at least once in your life, you won't be disappointed!   \n",
       "1069                                                                                                                                                                                                                                                                                                                                                                                                                                                                                       This place is to exciting all around the castle there are little rooms and there are different magicians performing I. Each little section. There is also a couple bars and tons to look at each nook and crany has some sort of history to it   \n",
       "1376                                                                                                                                                                                                                                                                                                                                                        Had a terrific time here last night. Food was mediocre, but the experience was fantastic. Our dinner reservation was at 9:45, late but we were able to see both the close-up shows of the night, both the big shows, and even participated in 2 impromptu shows by the magicians there. We spent a little over 6 hours there and never felt rushed to get in line for a show.   \n",
       "1563                                                                                                                                                                                                                                                                                                                                                                                                                                                                                                     Magic was awesome...of courseDrinks we're solid.  The lamb was really, really, bad.  I would stick with the steak of prime rib if you plan on having dinner. Dress code is no joke - don't forget to wear a suit jacket and tie!   \n",
       "1793                                                                                                                                                                                                                                                                                                                                                                                                                                                                                                                                                                               The food was a little pricey yet the company and the Castle was well worth every penny.  This experience is one that surpasses mere food but an event.   \n",
       "1884  I was skeptical about going to a venue full of magicians mainly because all of my previous experiences consisted of cheesy Vegas openers or child's parties.  I could not have been more wrong!  Every single act I saw was mindblowingly amazing.  I hate that you have to obtain a pass to get in (or stay at the hotel) because I would come here regularly if I could.  However, the exclusiveness makes it feel casual.  The magicians weren't all \"showbusiness\" on and off the stage, they were there having a good time too.  I also ate dinner at their restaurant and was surprised that it was so good.  Coupled with the late night at the bar, it all ended up being pretty expensive, but it was definitely worth it.   \n",
       "2315                                                                                                                                                                                                                                                                                                                                                                                                                                                                                                              This is the premier mmagical venue in the world. The food is a litle expensive, but it includes the kitchen roaches!! (just kidding) Due to a minor fire the place was remodelated for the better at the start of 2012.   \n",
       "\n",
       "      stars  polarity  \n",
       "139       5 -0.190000  \n",
       "756       5 -0.013333  \n",
       "796       5 -0.500000  \n",
       "897       5 -0.020000  \n",
       "1069      5 -0.018750  \n",
       "1376      5 -0.020833  \n",
       "1563      5 -0.066667  \n",
       "1793      5 -0.129167  \n",
       "1884      5 -0.049300  \n",
       "2315      5 -0.043750  "
      ]
     },
     "execution_count": 38,
     "metadata": {},
     "output_type": "execute_result"
    }
   ],
   "source": [
    "# Which reviews are super positive but are 1-star reviews?\n",
    "df[(df['polarity'] < -.0) & (df['sentiment'] == 'positive')][['Review', 'stars', 'polarity']]"
   ]
  },
  {
   "cell_type": "markdown",
   "metadata": {},
   "source": [
    "# Creating a better model\n",
    "\n",
    "In this case, we want to see if we can predict what the user will rate based solely on their review text. If the rating is completely different than what we would have expected, then we can flag this for review. \n",
    "\n",
    "Note: We are assuming that whatever training data we are using represents the ground truth. This is not correct and of course will need to be addressed as to what represents a review in line with the star rating. There is a high level of subjectivity to this."
   ]
  },
  {
   "cell_type": "markdown",
   "metadata": {},
   "source": [
    "# Data split"
   ]
  },
  {
   "cell_type": "code",
   "execution_count": 39,
   "metadata": {},
   "outputs": [],
   "source": [
    "# Split the data into X and y data sets\n",
    "X = df.Review\n",
    "y = df.sentiment"
   ]
  },
  {
   "cell_type": "code",
   "execution_count": 40,
   "metadata": {},
   "outputs": [],
   "source": [
    "# Split the data into training and test sets\n",
    "from sklearn.model_selection import train_test_split\n",
    "\n",
    "X_train, X_test, y_train, y_test = train_test_split(X, y, test_size=0.3, random_state=42)"
   ]
  },
  {
   "cell_type": "markdown",
   "metadata": {},
   "source": [
    "## Vectorization (TF-IDF)"
   ]
  },
  {
   "cell_type": "markdown",
   "metadata": {},
   "source": [
    "```\n",
    "tfidf(f, l) = tf(f, l) * idf(f, l)\n",
    "\n",
    "               # of reviews labeled i that contains f\n",
    "tf(f, l)    = ---------------------------------------\n",
    "                      # of reviews labeled i\n",
    "\n",
    "                       Total # of reviews\n",
    "idf(f, l)   = log ----------------------------\n",
    "                  # of reviews that contains f\n",
    "```"
   ]
  },
  {
   "cell_type": "code",
   "execution_count": 41,
   "metadata": {},
   "outputs": [
    {
     "data": {
      "text/html": [
       "<div>\n",
       "<style scoped>\n",
       "    .dataframe tbody tr th:only-of-type {\n",
       "        vertical-align: middle;\n",
       "    }\n",
       "\n",
       "    .dataframe tbody tr th {\n",
       "        vertical-align: top;\n",
       "    }\n",
       "\n",
       "    .dataframe thead th {\n",
       "        text-align: right;\n",
       "    }\n",
       "</style>\n",
       "<table border=\"1\" class=\"dataframe\">\n",
       "  <thead>\n",
       "    <tr style=\"text-align: right;\">\n",
       "      <th></th>\n",
       "      <th>00</th>\n",
       "      <th>000</th>\n",
       "      <th>00pm</th>\n",
       "      <th>01</th>\n",
       "      <th>04</th>\n",
       "      <th>06</th>\n",
       "      <th>10</th>\n",
       "      <th>100</th>\n",
       "      <th>1000</th>\n",
       "      <th>100th</th>\n",
       "      <th>...</th>\n",
       "      <th>zero</th>\n",
       "      <th>zest</th>\n",
       "      <th>zinfandel</th>\n",
       "      <th>zing</th>\n",
       "      <th>zipper</th>\n",
       "      <th>zippered</th>\n",
       "      <th>zippers</th>\n",
       "      <th>zirbel</th>\n",
       "      <th>zodiac</th>\n",
       "      <th>zupicthumbs</th>\n",
       "    </tr>\n",
       "  </thead>\n",
       "  <tbody>\n",
       "    <tr>\n",
       "      <th>0</th>\n",
       "      <td>0</td>\n",
       "      <td>0</td>\n",
       "      <td>0</td>\n",
       "      <td>0</td>\n",
       "      <td>0</td>\n",
       "      <td>0</td>\n",
       "      <td>0</td>\n",
       "      <td>0</td>\n",
       "      <td>0</td>\n",
       "      <td>0</td>\n",
       "      <td>...</td>\n",
       "      <td>0</td>\n",
       "      <td>0</td>\n",
       "      <td>0</td>\n",
       "      <td>0</td>\n",
       "      <td>0</td>\n",
       "      <td>0</td>\n",
       "      <td>0</td>\n",
       "      <td>0</td>\n",
       "      <td>0</td>\n",
       "      <td>0</td>\n",
       "    </tr>\n",
       "    <tr>\n",
       "      <th>1</th>\n",
       "      <td>0</td>\n",
       "      <td>0</td>\n",
       "      <td>0</td>\n",
       "      <td>0</td>\n",
       "      <td>0</td>\n",
       "      <td>0</td>\n",
       "      <td>0</td>\n",
       "      <td>0</td>\n",
       "      <td>0</td>\n",
       "      <td>0</td>\n",
       "      <td>...</td>\n",
       "      <td>0</td>\n",
       "      <td>0</td>\n",
       "      <td>0</td>\n",
       "      <td>0</td>\n",
       "      <td>0</td>\n",
       "      <td>0</td>\n",
       "      <td>0</td>\n",
       "      <td>0</td>\n",
       "      <td>0</td>\n",
       "      <td>0</td>\n",
       "    </tr>\n",
       "    <tr>\n",
       "      <th>2</th>\n",
       "      <td>0</td>\n",
       "      <td>0</td>\n",
       "      <td>0</td>\n",
       "      <td>0</td>\n",
       "      <td>0</td>\n",
       "      <td>0</td>\n",
       "      <td>0</td>\n",
       "      <td>0</td>\n",
       "      <td>0</td>\n",
       "      <td>0</td>\n",
       "      <td>...</td>\n",
       "      <td>0</td>\n",
       "      <td>0</td>\n",
       "      <td>0</td>\n",
       "      <td>0</td>\n",
       "      <td>0</td>\n",
       "      <td>0</td>\n",
       "      <td>0</td>\n",
       "      <td>0</td>\n",
       "      <td>0</td>\n",
       "      <td>0</td>\n",
       "    </tr>\n",
       "    <tr>\n",
       "      <th>3</th>\n",
       "      <td>0</td>\n",
       "      <td>0</td>\n",
       "      <td>0</td>\n",
       "      <td>0</td>\n",
       "      <td>0</td>\n",
       "      <td>0</td>\n",
       "      <td>0</td>\n",
       "      <td>0</td>\n",
       "      <td>0</td>\n",
       "      <td>0</td>\n",
       "      <td>...</td>\n",
       "      <td>0</td>\n",
       "      <td>0</td>\n",
       "      <td>0</td>\n",
       "      <td>0</td>\n",
       "      <td>0</td>\n",
       "      <td>0</td>\n",
       "      <td>0</td>\n",
       "      <td>0</td>\n",
       "      <td>0</td>\n",
       "      <td>0</td>\n",
       "    </tr>\n",
       "    <tr>\n",
       "      <th>4</th>\n",
       "      <td>0</td>\n",
       "      <td>0</td>\n",
       "      <td>0</td>\n",
       "      <td>0</td>\n",
       "      <td>0</td>\n",
       "      <td>0</td>\n",
       "      <td>0</td>\n",
       "      <td>0</td>\n",
       "      <td>0</td>\n",
       "      <td>0</td>\n",
       "      <td>...</td>\n",
       "      <td>0</td>\n",
       "      <td>0</td>\n",
       "      <td>0</td>\n",
       "      <td>0</td>\n",
       "      <td>0</td>\n",
       "      <td>0</td>\n",
       "      <td>0</td>\n",
       "      <td>0</td>\n",
       "      <td>0</td>\n",
       "      <td>0</td>\n",
       "    </tr>\n",
       "  </tbody>\n",
       "</table>\n",
       "<p>5 rows × 8165 columns</p>\n",
       "</div>"
      ],
      "text/plain": [
       "   00  000  00pm  01  04  06  10  100  1000  100th  ...  zero  zest  \\\n",
       "0   0    0     0   0   0   0   0    0     0      0  ...     0     0   \n",
       "1   0    0     0   0   0   0   0    0     0      0  ...     0     0   \n",
       "2   0    0     0   0   0   0   0    0     0      0  ...     0     0   \n",
       "3   0    0     0   0   0   0   0    0     0      0  ...     0     0   \n",
       "4   0    0     0   0   0   0   0    0     0      0  ...     0     0   \n",
       "\n",
       "   zinfandel  zing  zipper  zippered  zippers  zirbel  zodiac  zupicthumbs  \n",
       "0          0     0       0         0        0       0       0            0  \n",
       "1          0     0       0         0        0       0       0            0  \n",
       "2          0     0       0         0        0       0       0            0  \n",
       "3          0     0       0         0        0       0       0            0  \n",
       "4          0     0       0         0        0       0       0            0  \n",
       "\n",
       "[5 rows x 8165 columns]"
      ]
     },
     "execution_count": 41,
     "metadata": {},
     "output_type": "execute_result"
    }
   ],
   "source": [
    "# The first document-term matrix has default Count Vectorizer values - counts of unigrams\n",
    "from sklearn.feature_extraction.text import CountVectorizer\n",
    "\n",
    "cv1 = CountVectorizer(stop_words='english')\n",
    "\n",
    "X_train_cv1 = cv1.fit_transform(X_train)\n",
    "X_test_cv1  = cv1.transform(X_test)\n",
    "\n",
    "pd.DataFrame(X_train_cv1.toarray(), columns=cv1.get_feature_names()).head()"
   ]
  },
  {
   "cell_type": "code",
   "execution_count": 42,
   "metadata": {},
   "outputs": [
    {
     "data": {
      "text/html": [
       "<div>\n",
       "<style scoped>\n",
       "    .dataframe tbody tr th:only-of-type {\n",
       "        vertical-align: middle;\n",
       "    }\n",
       "\n",
       "    .dataframe tbody tr th {\n",
       "        vertical-align: top;\n",
       "    }\n",
       "\n",
       "    .dataframe thead th {\n",
       "        text-align: right;\n",
       "    }\n",
       "</style>\n",
       "<table border=\"1\" class=\"dataframe\">\n",
       "  <thead>\n",
       "    <tr style=\"text-align: right;\">\n",
       "      <th></th>\n",
       "      <th>00</th>\n",
       "      <th>00 children</th>\n",
       "      <th>00 couldn</th>\n",
       "      <th>00 didn</th>\n",
       "      <th>00 dinner</th>\n",
       "      <th>00 fee</th>\n",
       "      <th>00 formal</th>\n",
       "      <th>00 glass</th>\n",
       "      <th>00 hungry</th>\n",
       "      <th>00 inside</th>\n",
       "      <th>...</th>\n",
       "      <th>zippered jackets</th>\n",
       "      <th>zippers</th>\n",
       "      <th>zippers guys</th>\n",
       "      <th>zippers prepare</th>\n",
       "      <th>zirbel</th>\n",
       "      <th>zirbel jimmy</th>\n",
       "      <th>zodiac</th>\n",
       "      <th>zodiac signs</th>\n",
       "      <th>zupicthumbs</th>\n",
       "      <th>zupicthumbs guys</th>\n",
       "    </tr>\n",
       "  </thead>\n",
       "  <tbody>\n",
       "    <tr>\n",
       "      <th>0</th>\n",
       "      <td>0</td>\n",
       "      <td>0</td>\n",
       "      <td>0</td>\n",
       "      <td>0</td>\n",
       "      <td>0</td>\n",
       "      <td>0</td>\n",
       "      <td>0</td>\n",
       "      <td>0</td>\n",
       "      <td>0</td>\n",
       "      <td>0</td>\n",
       "      <td>...</td>\n",
       "      <td>0</td>\n",
       "      <td>0</td>\n",
       "      <td>0</td>\n",
       "      <td>0</td>\n",
       "      <td>0</td>\n",
       "      <td>0</td>\n",
       "      <td>0</td>\n",
       "      <td>0</td>\n",
       "      <td>0</td>\n",
       "      <td>0</td>\n",
       "    </tr>\n",
       "    <tr>\n",
       "      <th>1</th>\n",
       "      <td>0</td>\n",
       "      <td>0</td>\n",
       "      <td>0</td>\n",
       "      <td>0</td>\n",
       "      <td>0</td>\n",
       "      <td>0</td>\n",
       "      <td>0</td>\n",
       "      <td>0</td>\n",
       "      <td>0</td>\n",
       "      <td>0</td>\n",
       "      <td>...</td>\n",
       "      <td>0</td>\n",
       "      <td>0</td>\n",
       "      <td>0</td>\n",
       "      <td>0</td>\n",
       "      <td>0</td>\n",
       "      <td>0</td>\n",
       "      <td>0</td>\n",
       "      <td>0</td>\n",
       "      <td>0</td>\n",
       "      <td>0</td>\n",
       "    </tr>\n",
       "    <tr>\n",
       "      <th>2</th>\n",
       "      <td>0</td>\n",
       "      <td>0</td>\n",
       "      <td>0</td>\n",
       "      <td>0</td>\n",
       "      <td>0</td>\n",
       "      <td>0</td>\n",
       "      <td>0</td>\n",
       "      <td>0</td>\n",
       "      <td>0</td>\n",
       "      <td>0</td>\n",
       "      <td>...</td>\n",
       "      <td>0</td>\n",
       "      <td>0</td>\n",
       "      <td>0</td>\n",
       "      <td>0</td>\n",
       "      <td>0</td>\n",
       "      <td>0</td>\n",
       "      <td>0</td>\n",
       "      <td>0</td>\n",
       "      <td>0</td>\n",
       "      <td>0</td>\n",
       "    </tr>\n",
       "    <tr>\n",
       "      <th>3</th>\n",
       "      <td>0</td>\n",
       "      <td>0</td>\n",
       "      <td>0</td>\n",
       "      <td>0</td>\n",
       "      <td>0</td>\n",
       "      <td>0</td>\n",
       "      <td>0</td>\n",
       "      <td>0</td>\n",
       "      <td>0</td>\n",
       "      <td>0</td>\n",
       "      <td>...</td>\n",
       "      <td>0</td>\n",
       "      <td>0</td>\n",
       "      <td>0</td>\n",
       "      <td>0</td>\n",
       "      <td>0</td>\n",
       "      <td>0</td>\n",
       "      <td>0</td>\n",
       "      <td>0</td>\n",
       "      <td>0</td>\n",
       "      <td>0</td>\n",
       "    </tr>\n",
       "    <tr>\n",
       "      <th>4</th>\n",
       "      <td>0</td>\n",
       "      <td>0</td>\n",
       "      <td>0</td>\n",
       "      <td>0</td>\n",
       "      <td>0</td>\n",
       "      <td>0</td>\n",
       "      <td>0</td>\n",
       "      <td>0</td>\n",
       "      <td>0</td>\n",
       "      <td>0</td>\n",
       "      <td>...</td>\n",
       "      <td>0</td>\n",
       "      <td>0</td>\n",
       "      <td>0</td>\n",
       "      <td>0</td>\n",
       "      <td>0</td>\n",
       "      <td>0</td>\n",
       "      <td>0</td>\n",
       "      <td>0</td>\n",
       "      <td>0</td>\n",
       "      <td>0</td>\n",
       "    </tr>\n",
       "  </tbody>\n",
       "</table>\n",
       "<p>5 rows × 63510 columns</p>\n",
       "</div>"
      ],
      "text/plain": [
       "   00  00 children  00 couldn  00 didn  00 dinner  00 fee  00 formal  \\\n",
       "0   0            0          0        0          0       0          0   \n",
       "1   0            0          0        0          0       0          0   \n",
       "2   0            0          0        0          0       0          0   \n",
       "3   0            0          0        0          0       0          0   \n",
       "4   0            0          0        0          0       0          0   \n",
       "\n",
       "   00 glass  00 hungry  00 inside  ...  zippered jackets  zippers  \\\n",
       "0         0          0          0  ...                 0        0   \n",
       "1         0          0          0  ...                 0        0   \n",
       "2         0          0          0  ...                 0        0   \n",
       "3         0          0          0  ...                 0        0   \n",
       "4         0          0          0  ...                 0        0   \n",
       "\n",
       "   zippers guys  zippers prepare  zirbel  zirbel jimmy  zodiac  zodiac signs  \\\n",
       "0             0                0       0             0       0             0   \n",
       "1             0                0       0             0       0             0   \n",
       "2             0                0       0             0       0             0   \n",
       "3             0                0       0             0       0             0   \n",
       "4             0                0       0             0       0             0   \n",
       "\n",
       "   zupicthumbs  zupicthumbs guys  \n",
       "0            0                 0  \n",
       "1            0                 0  \n",
       "2            0                 0  \n",
       "3            0                 0  \n",
       "4            0                 0  \n",
       "\n",
       "[5 rows x 63510 columns]"
      ]
     },
     "execution_count": 42,
     "metadata": {},
     "output_type": "execute_result"
    }
   ],
   "source": [
    "# The second document-term matrix has both unigrams and bigrams, and indicators instead of counts\n",
    "cv2 = CountVectorizer(ngram_range=(1,2), binary=True, stop_words='english')\n",
    "\n",
    "X_train_cv2 = cv2.fit_transform(X_train)\n",
    "X_test_cv2  = cv2.transform(X_test)\n",
    "\n",
    "pd.DataFrame(X_train_cv2.toarray(), columns=cv2.get_feature_names()).head()"
   ]
  },
  {
   "cell_type": "markdown",
   "metadata": {},
   "source": [
    "## Models"
   ]
  },
  {
   "cell_type": "markdown",
   "metadata": {},
   "source": [
    "The following evaluation metrics are used to measure the performance of the models:\n",
    "```\n",
    "              tp                                              tp\n",
    "Precision = -------                             Recall    = -------\n",
    "            tp + fp                                         tp + fn\n",
    "\n",
    "             2 * Precision * Recall                              tp + tn\n",
    "F-Measure = ------------------------            Accuracy  = -----------------   \n",
    "               Precision + Recall                           tp + tn + fp + fn  \n",
    "```\n",
    "Where `tp` are the true positives, `fp` - false positives, `tp` - true positives, and `tn` - true negatives. \n"
   ]
  },
  {
   "cell_type": "markdown",
   "metadata": {},
   "source": [
    "### Logistic regression"
   ]
  },
  {
   "cell_type": "code",
   "execution_count": 43,
   "metadata": {},
   "outputs": [],
   "source": [
    "# Create a logistic regression model to use\n",
    "from sklearn.linear_model import LogisticRegression\n",
    "lr = LogisticRegression()"
   ]
  },
  {
   "cell_type": "code",
   "execution_count": 44,
   "metadata": {},
   "outputs": [
    {
     "name": "stderr",
     "output_type": "stream",
     "text": [
      "/Users/nicholasbeaudoin/anaconda3/lib/python3.7/site-packages/sklearn/linear_model/logistic.py:433: FutureWarning: Default solver will be changed to 'lbfgs' in 0.22. Specify a solver to silence this warning.\n",
      "  FutureWarning)\n"
     ]
    }
   ],
   "source": [
    "# Train the first model\n",
    "lr.fit(X_train_cv1, y_train)\n",
    "y_pred_cv1 = lr.predict(X_test_cv1)"
   ]
  },
  {
   "cell_type": "code",
   "execution_count": 45,
   "metadata": {},
   "outputs": [],
   "source": [
    "# Train the second model\n",
    "lr.fit(X_train_cv2, y_train)\n",
    "y_pred_cv2 = lr.predict(X_test_cv2)"
   ]
  },
  {
   "cell_type": "code",
   "execution_count": 46,
   "metadata": {},
   "outputs": [
    {
     "data": {
      "image/png": "[encoded data removed]",
      "text/plain": [
       "<Figure size 432x288 with 2 Axes>"
      ]
     },
     "metadata": {
      "needs_background": "light"
     },
     "output_type": "display_data"
    }
   ],
   "source": [
    "# The heat map for the first logistic regression model\n",
    "cm1 = conf_matrix(y_test, y_pred_cv1)"
   ]
  },
  {
   "cell_type": "code",
   "execution_count": 47,
   "metadata": {},
   "outputs": [
    {
     "data": {
      "image/png": "[encoded data removed]",
      "text/plain": [
       "<Figure size 432x288 with 2 Axes>"
      ]
     },
     "metadata": {
      "needs_background": "light"
     },
     "output_type": "display_data"
    }
   ],
   "source": [
    "# The heat map for the second logistic regression model\n",
    "cm2 = conf_matrix(y_test, y_pred_cv2)"
   ]
  },
  {
   "cell_type": "code",
   "execution_count": 48,
   "metadata": {},
   "outputs": [
    {
     "data": {
      "text/html": [
       "<div>\n",
       "<style scoped>\n",
       "    .dataframe tbody tr th:only-of-type {\n",
       "        vertical-align: middle;\n",
       "    }\n",
       "\n",
       "    .dataframe tbody tr th {\n",
       "        vertical-align: top;\n",
       "    }\n",
       "\n",
       "    .dataframe thead th {\n",
       "        text-align: right;\n",
       "    }\n",
       "</style>\n",
       "<table border=\"1\" class=\"dataframe\">\n",
       "  <thead>\n",
       "    <tr style=\"text-align: right;\">\n",
       "      <th></th>\n",
       "      <th>LogReg1</th>\n",
       "      <th>LogReg2</th>\n",
       "    </tr>\n",
       "  </thead>\n",
       "  <tbody>\n",
       "    <tr>\n",
       "      <th>Accuracy</th>\n",
       "      <td>0.950</td>\n",
       "      <td>0.900</td>\n",
       "    </tr>\n",
       "    <tr>\n",
       "      <th>Precision</th>\n",
       "      <td>0.950</td>\n",
       "      <td>0.895</td>\n",
       "    </tr>\n",
       "    <tr>\n",
       "      <th>Recall</th>\n",
       "      <td>0.994</td>\n",
       "      <td>1.000</td>\n",
       "    </tr>\n",
       "    <tr>\n",
       "      <th>F1 Score</th>\n",
       "      <td>0.972</td>\n",
       "      <td>0.945</td>\n",
       "    </tr>\n",
       "  </tbody>\n",
       "</table>\n",
       "</div>"
      ],
      "text/plain": [
       "           LogReg1  LogReg2\n",
       "Accuracy     0.950    0.900\n",
       "Precision    0.950    0.895\n",
       "Recall       0.994    1.000\n",
       "F1 Score     0.972    0.945"
      ]
     },
     "execution_count": 48,
     "metadata": {},
     "output_type": "execute_result"
    }
   ],
   "source": [
    "# Compile all of the error metrics into a dataframe for comparison\n",
    "results = pd.DataFrame(list(zip(cm1, cm2)))\n",
    "results = results.set_index([['Accuracy', 'Precision', 'Recall', 'F1 Score']])\n",
    "results.columns = ['LogReg1', 'LogReg2']\n",
    "results"
   ]
  },
  {
   "cell_type": "markdown",
   "metadata": {},
   "source": [
    "### Naive Bayes"
   ]
  },
  {
   "cell_type": "code",
   "execution_count": 49,
   "metadata": {},
   "outputs": [],
   "source": [
    "# Fit the first Naive Bayes model\n",
    "from sklearn.naive_bayes import MultinomialNB\n",
    "\n",
    "mnb = MultinomialNB()\n",
    "mnb.fit(X_train_cv1, y_train)\n",
    "\n",
    "y_pred_cv1_nb = mnb.predict(X_test_cv1)"
   ]
  },
  {
   "cell_type": "code",
   "execution_count": 50,
   "metadata": {},
   "outputs": [],
   "source": [
    "# Fit the second Naive Bayes model\n",
    "from sklearn.naive_bayes import BernoulliNB\n",
    "\n",
    "bnb = BernoulliNB()\n",
    "bnb.fit(X_train_cv2, y_train)\n",
    "\n",
    "y_pred_cv2_nb = bnb.predict(X_test_cv2)"
   ]
  },
  {
   "cell_type": "code",
   "execution_count": 51,
   "metadata": {},
   "outputs": [
    {
     "data": {
      "image/png": "[encoded data removed]",
      "text/plain": [
       "<Figure size 432x288 with 2 Axes>"
      ]
     },
     "metadata": {
      "needs_background": "light"
     },
     "output_type": "display_data"
    }
   ],
   "source": [
    "# Here's the heat map for the first Naive Bayes model\n",
    "cm3 = conf_matrix(y_test, y_pred_cv1_nb)"
   ]
  },
  {
   "cell_type": "code",
   "execution_count": 52,
   "metadata": {},
   "outputs": [
    {
     "data": {
      "image/png": "[encoded data removed]",
      "text/plain": [
       "<Figure size 432x288 with 2 Axes>"
      ]
     },
     "metadata": {
      "needs_background": "light"
     },
     "output_type": "display_data"
    }
   ],
   "source": [
    "# Here's the heat map for the second Naive Bayes model\n",
    "cm4 = conf_matrix(y_test, y_pred_cv2_nb)"
   ]
  },
  {
   "cell_type": "code",
   "execution_count": 53,
   "metadata": {},
   "outputs": [
    {
     "data": {
      "text/html": [
       "<div>\n",
       "<style scoped>\n",
       "    .dataframe tbody tr th:only-of-type {\n",
       "        vertical-align: middle;\n",
       "    }\n",
       "\n",
       "    .dataframe tbody tr th {\n",
       "        vertical-align: top;\n",
       "    }\n",
       "\n",
       "    .dataframe thead th {\n",
       "        text-align: right;\n",
       "    }\n",
       "</style>\n",
       "<table border=\"1\" class=\"dataframe\">\n",
       "  <thead>\n",
       "    <tr style=\"text-align: right;\">\n",
       "      <th></th>\n",
       "      <th>LogReg1</th>\n",
       "      <th>LogReg2</th>\n",
       "      <th>NB1</th>\n",
       "      <th>NB2</th>\n",
       "    </tr>\n",
       "  </thead>\n",
       "  <tbody>\n",
       "    <tr>\n",
       "      <th>Accuracy</th>\n",
       "      <td>0.950</td>\n",
       "      <td>0.900</td>\n",
       "      <td>0.908</td>\n",
       "      <td>0.853</td>\n",
       "    </tr>\n",
       "    <tr>\n",
       "      <th>Precision</th>\n",
       "      <td>0.950</td>\n",
       "      <td>0.895</td>\n",
       "      <td>0.902</td>\n",
       "      <td>0.853</td>\n",
       "    </tr>\n",
       "    <tr>\n",
       "      <th>Recall</th>\n",
       "      <td>0.994</td>\n",
       "      <td>1.000</td>\n",
       "      <td>1.000</td>\n",
       "      <td>1.000</td>\n",
       "    </tr>\n",
       "    <tr>\n",
       "      <th>F1 Score</th>\n",
       "      <td>0.972</td>\n",
       "      <td>0.945</td>\n",
       "      <td>0.948</td>\n",
       "      <td>0.921</td>\n",
       "    </tr>\n",
       "  </tbody>\n",
       "</table>\n",
       "</div>"
      ],
      "text/plain": [
       "           LogReg1  LogReg2    NB1    NB2\n",
       "Accuracy     0.950    0.900  0.908  0.853\n",
       "Precision    0.950    0.895  0.902  0.853\n",
       "Recall       0.994    1.000  1.000  1.000\n",
       "F1 Score     0.972    0.945  0.948  0.921"
      ]
     },
     "execution_count": 53,
     "metadata": {},
     "output_type": "execute_result"
    }
   ],
   "source": [
    "# Compile all of the error metrics into a dataframe for comparison\n",
    "results_nb = pd.DataFrame(list(zip(cm3, cm4)))\n",
    "results_nb = results_nb.set_index([['Accuracy', 'Precision', 'Recall', 'F1 Score']])\n",
    "results_nb.columns = ['NB1', 'NB2']\n",
    "results_nb\n",
    "\n",
    "results = pd.concat([results, results_nb], axis=1)\n",
    "results"
   ]
  },
  {
   "cell_type": "markdown",
   "metadata": {},
   "source": [
    "### Try using TF-IDF instead of Count Vectorizer"
   ]
  },
  {
   "cell_type": "code",
   "execution_count": 54,
   "metadata": {},
   "outputs": [],
   "source": [
    "# Create TF-IDF versions of the Count Vectorizers created earlier in the exercise\n",
    "from sklearn.feature_extraction.text import TfidfVectorizer\n",
    "\n",
    "tfidf1 = TfidfVectorizer(stop_words='english')\n",
    "X_train_tfidf1 = tfidf1.fit_transform(X_train)\n",
    "X_test_tfidf1  = tfidf1.transform(X_test)\n",
    "\n",
    "tfidf2 = TfidfVectorizer(ngram_range=(1,2), binary=True, stop_words='english')\n",
    "X_train_tfidf2 = tfidf2.fit_transform(X_train)\n",
    "X_test_tfidf2  = tfidf2.transform(X_test)"
   ]
  },
  {
   "cell_type": "code",
   "execution_count": 55,
   "metadata": {},
   "outputs": [
    {
     "name": "stderr",
     "output_type": "stream",
     "text": [
      "/Users/nicholasbeaudoin/anaconda3/lib/python3.7/site-packages/sklearn/linear_model/logistic.py:433: FutureWarning: Default solver will be changed to 'lbfgs' in 0.22. Specify a solver to silence this warning.\n",
      "  FutureWarning)\n"
     ]
    },
    {
     "data": {
      "image/png": "[encoded data removed]",
      "text/plain": [
       "<Figure size 432x288 with 2 Axes>"
      ]
     },
     "metadata": {
      "needs_background": "light"
     },
     "output_type": "display_data"
    }
   ],
   "source": [
    "# Fit the first logistic regression on the TF-IDF data\n",
    "lr.fit(X_train_tfidf1, y_train)\n",
    "y_pred_tfidf1_lr = lr.predict(X_test_tfidf1)\n",
    "cm5 = conf_matrix(y_test, y_pred_tfidf1_lr)"
   ]
  },
  {
   "cell_type": "code",
   "execution_count": 56,
   "metadata": {},
   "outputs": [
    {
     "data": {
      "image/png": "[encoded data removed]",
      "text/plain": [
       "<Figure size 432x288 with 2 Axes>"
      ]
     },
     "metadata": {
      "needs_background": "light"
     },
     "output_type": "display_data"
    }
   ],
   "source": [
    "# Fit the second logistic regression on the TF-IDF data\n",
    "lr.fit(X_train_tfidf2, y_train)\n",
    "y_pred_tfidf2_lr = lr.predict(X_test_tfidf2)\n",
    "cm6 = conf_matrix(y_test, y_pred_tfidf2_lr)"
   ]
  },
  {
   "cell_type": "code",
   "execution_count": 57,
   "metadata": {},
   "outputs": [
    {
     "data": {
      "image/png": "[encoded data removed]",
      "text/plain": [
       "<Figure size 432x288 with 2 Axes>"
      ]
     },
     "metadata": {
      "needs_background": "light"
     },
     "output_type": "display_data"
    }
   ],
   "source": [
    "# Fit the first Naive Bayes model on the TF-IDF data\n",
    "mnb.fit(X_train_tfidf1.toarray(), y_train)\n",
    "y_pred_tfidf1_nb = mnb.predict(X_test_tfidf1)\n",
    "cm7 = conf_matrix(y_test, y_pred_tfidf1_nb)"
   ]
  },
  {
   "cell_type": "code",
   "execution_count": 58,
   "metadata": {},
   "outputs": [
    {
     "data": {
      "image/png": "[encoded data removed]",
      "text/plain": [
       "<Figure size 432x288 with 2 Axes>"
      ]
     },
     "metadata": {
      "needs_background": "light"
     },
     "output_type": "display_data"
    }
   ],
   "source": [
    "# Fit the second Naive Bayes model on the TF-IDF data\n",
    "bnb.fit(X_train_tfidf2.toarray(), y_train)\n",
    "y_pred_tfidf2_nb = bnb.predict(X_test_tfidf2)\n",
    "cm8 = conf_matrix(y_test, y_pred_tfidf2_nb)"
   ]
  },
  {
   "cell_type": "code",
   "execution_count": 59,
   "metadata": {},
   "outputs": [
    {
     "data": {
      "text/html": [
       "<div>\n",
       "<style scoped>\n",
       "    .dataframe tbody tr th:only-of-type {\n",
       "        vertical-align: middle;\n",
       "    }\n",
       "\n",
       "    .dataframe tbody tr th {\n",
       "        vertical-align: top;\n",
       "    }\n",
       "\n",
       "    .dataframe thead th {\n",
       "        text-align: right;\n",
       "    }\n",
       "</style>\n",
       "<table border=\"1\" class=\"dataframe\">\n",
       "  <thead>\n",
       "    <tr style=\"text-align: right;\">\n",
       "      <th></th>\n",
       "      <th>LogReg1</th>\n",
       "      <th>LogReg2</th>\n",
       "      <th>NB1</th>\n",
       "      <th>NB2</th>\n",
       "      <th>LR1-TFIDF</th>\n",
       "      <th>LR2-TFIDF</th>\n",
       "      <th>NB1-TFIDF</th>\n",
       "      <th>NB2-TFIDF</th>\n",
       "    </tr>\n",
       "  </thead>\n",
       "  <tbody>\n",
       "    <tr>\n",
       "      <th>Accuracy</th>\n",
       "      <td>0.950</td>\n",
       "      <td>0.900</td>\n",
       "      <td>0.908</td>\n",
       "      <td>0.853</td>\n",
       "      <td>0.863</td>\n",
       "      <td>0.853</td>\n",
       "      <td>0.853</td>\n",
       "      <td>0.853</td>\n",
       "    </tr>\n",
       "    <tr>\n",
       "      <th>Precision</th>\n",
       "      <td>0.950</td>\n",
       "      <td>0.895</td>\n",
       "      <td>0.902</td>\n",
       "      <td>0.853</td>\n",
       "      <td>0.861</td>\n",
       "      <td>0.853</td>\n",
       "      <td>0.853</td>\n",
       "      <td>0.853</td>\n",
       "    </tr>\n",
       "    <tr>\n",
       "      <th>Recall</th>\n",
       "      <td>0.994</td>\n",
       "      <td>1.000</td>\n",
       "      <td>1.000</td>\n",
       "      <td>1.000</td>\n",
       "      <td>1.000</td>\n",
       "      <td>1.000</td>\n",
       "      <td>1.000</td>\n",
       "      <td>1.000</td>\n",
       "    </tr>\n",
       "    <tr>\n",
       "      <th>F1 Score</th>\n",
       "      <td>0.972</td>\n",
       "      <td>0.945</td>\n",
       "      <td>0.948</td>\n",
       "      <td>0.921</td>\n",
       "      <td>0.925</td>\n",
       "      <td>0.921</td>\n",
       "      <td>0.921</td>\n",
       "      <td>0.921</td>\n",
       "    </tr>\n",
       "  </tbody>\n",
       "</table>\n",
       "</div>"
      ],
      "text/plain": [
       "           LogReg1  LogReg2    NB1    NB2  LR1-TFIDF  LR2-TFIDF  NB1-TFIDF  \\\n",
       "Accuracy     0.950    0.900  0.908  0.853      0.863      0.853      0.853   \n",
       "Precision    0.950    0.895  0.902  0.853      0.861      0.853      0.853   \n",
       "Recall       0.994    1.000  1.000  1.000      1.000      1.000      1.000   \n",
       "F1 Score     0.972    0.945  0.948  0.921      0.925      0.921      0.921   \n",
       "\n",
       "           NB2-TFIDF  \n",
       "Accuracy       0.853  \n",
       "Precision      0.853  \n",
       "Recall         1.000  \n",
       "F1 Score       0.921  "
      ]
     },
     "execution_count": 59,
     "metadata": {},
     "output_type": "execute_result"
    }
   ],
   "source": [
    "# Compile all of the error metrics into a dataframe for comparison\n",
    "results_tf = pd.DataFrame(list(zip(cm5, cm6, cm7, cm8)))\n",
    "results_tf = results_tf.set_index([['Accuracy', 'Precision', 'Recall', 'F1 Score']])\n",
    "results_tf.columns = ['LR1-TFIDF', 'LR2-TFIDF', 'NB1-TFIDF', 'NB2-TFIDF']\n",
    "results_tf\n",
    "\n",
    "results = pd.concat([results, results_tf], axis=1)\n",
    "results"
   ]
  },
  {
   "cell_type": "markdown",
   "metadata": {},
   "source": [
    "We will assume that we are worried about predicting that a review will be positive, when it turns out to be negative. Missing negative reviews hurts the business more than missing a positive review. This is why concentrating on Precision is important. Each time the false positive occurs, the score on precision decreases.\n",
    "\n",
    "The first model (TF, not TF-IDF) has the highest precision, and also the highest f1-score which is the harmonic mean between precision and recall. To boot, the algorithm does a decent job with a 94.5% accuracy. We can probably get this higher, but it might be at the detriment of precision."
   ]
  },
  {
   "cell_type": "markdown",
   "metadata": {},
   "source": [
    "## False Positives"
   ]
  },
  {
   "cell_type": "code",
   "execution_count": 60,
   "metadata": {},
   "outputs": [
    {
     "data": {
      "text/plain": [
       "2182                                                                                                                                                                                                                                                                                                                                                                                                                                                                                                                                                                                                                                                                          This is the cheesiest place ever! The food was very bad! The magic almost as bad and the whole thing was a joke! I went only because a friend had reservations and I had never been before. I would never go back not even for free. A much better place is right next door...Yamashiro's  the food is pretty good and the view is great! Try this place instead!\n",
       "1484                                                                                                                                                                                                                                                                                                                                                                                                                                                                                                                                                                                                                                                                                                            Dilapidated and needs another dollar sign for price.  If you have dinner reservations no one from your party can pass on dinner.  An over-priced entree is required and the food is mediocre at best.  I fully expect to be cursed by Doogie Houser MD for this review but I've been taken advantage of for the last time here.\n",
       "994                                                         NEVER AGAIN.If you want to hang out with the pretentious and obnoxious, then this is your place.The entrance looks nice. The reception area is stuffy. Old carpet, bad air circulation.They make say \"OPEN SESAME\" in order to enter the actual lounge area.  WTH.The inside has the same crappy carpet and bad circulation as the lobby. I felt like I was in an 80 something year old spinster's house. A mixture of allergens and BO was def in the atmosphere. Drinks were somewhat reasonable.COVER: 20 bucks a pop (WTH)VALET: 10 (pretty reasonable for the area)FOOD: Sizzler definitely tastes better. The Chilean bass was somewhat good, but warm (not hot) when they served it. The Mac N Cheese tasted like it came out of the box. Cheesecake? I'll have Sara Lee anytime.200 bucks later, we're pissed.Thank goodness I love my BFF faghag. Never. Nunca. Niet.Save your 200 bucks and eat goodfood somewhere. Do you wanna see magic? Watch youtube.UGGGGHHHH. SMH.\n",
       "961                                                                                                                                                                                                                                                                                                                                                                                                                                                                                                                                                                                                                         Beware of dress code.  Fashionable slacks are not allowed if any pockets show. Wear a suit that is 2 sizes to big and hideous - it fits 1960s dress code and fashion. Seriously should update their fashion standards. Been here before. The food is 2-3 stars at best. The main magic show we saw was generous to give 1 star. All the contraptions and \"magic\"  could be clearly seen.  Ambience is great though.\n",
       "1013                                                                                                                                                                                                                                                                                                                                                                                                                                                                                                                                                                                                 Zero stars. Long queues that end with acts rife with sexual harassment of female volunteers. Whatever happened to respect for the volunteer and self deprecation of the performer? I don't enjoy watching women be demeaned and ridiculed. I also don't enjoy the mockery of audience members who don't speak English. I came to see magic and illusion. Quit being schlocky hacks, work on your craft, and let your act speak for itself.\n",
       "1663                                                                                                                                                                                                                                                                        I have always wanted to go to the Magic Castle.  I heard it was an experience you have to have in Los Angeles. I would agree that it was an experience.Mullets.  Big, old, boobs squeezed into undersized dresses...bad meat...poor service...and such bad magic.Oh, but at least I got to wait in line and pay a cover charge of $25.00.  To be fair, I think magicians, and I'm generalizing, are weird folk.  I rank dedicated magicians up there with mimes and clowns.  Just bizarre.  I know it takes talent, but I just want to punch em in the face and take their lunch money.  I will say that up until the WORST show I have ever sat through I did have fun with my friends...but I would save a few hundred bucks and go to a nice happy hour instead.\n",
       "2307                                                                                                                                                                                                                                                                                                                                                                                                                                                                                                                                         Got fleeced last weekend at the Magic Castle -- high cover price, watered-down drinks for $13 a pop, lots of line-standing, some rude staff and a few tired, depressing magicians. Saw one decent magician, a guy in the basement who was funny, and another psychic who was pretty good, but overall it DEFINITELY wasn't worth the trouble or the money. Too bad. Creepy too that they obviously have hidden cameras and microphones everywhere -- wonder what they do in the Ladies' room? Boo.\n",
       "572                                                                                                                                                                                                                                                                                                                                                                                                       The Magic Castle has recently installed blinding floodlights that broadcast ungodly and intrusive lights across buildings in the neighborhood.  Our property management company has addressed the issue and it appears that they don't care and will NOT fix the issue. How such a respected institution can be so disrespectful to our community is mind-boggling.  I am absolutely gutted having been informed of their smugness and arrogance towards people who live and (trying to) sleep nearby.  Neil Patrick Harris needs to be informed as I understand he is the chairman of that careless organization.  #notsomagiccastle\n",
       "951                                                                                                                                                                                                                                                                                                                                                                                                                                                                                                                                                                                                                       I really don't understand the draw to this place. It is very difficult to navigate, once inside. The magic shows are mediocre. The food at the restaurant, the same. I just kept wondering why this place remains popular, to date. It may just be the mystery surrounding it and that you can only attend the shows and an evening there, if you're invited. I hope to never return. A complete waste of an evening.\n",
       "1284                                                                                                                                                                                                                                                                                                                                                                                                                                                                                                                                                                                                                                              The name sounds very tempting and is actually a trap to get the customers in. Talking about the fun, well yeah it is good place to be but when it comes to good there is nothing good about it. I mean the mean reason I want to go to dine in place is to have nice food. If I only wanted fun I could have gone to Disney World. I was truly disappointed by the food and never going back.\n",
       "886                                                                                                                                                                                                                                                                                                                                                                                                                  I was super excited to celebrate my 30th bday here. All my friends and I are all glam up for the night and everyone already anticipated spending some bills that night (13 for valet-not bad,$30-for door charge and atleast $50 for one entree and $15 for cocktail) but man..for something this fancy,their food was BLUNT. Super mediocre,the tomahawk for $70 was a waste,their Filet Mignon was a cheap kind of meat. So disappointed. One of my friends even returned her order. Management should know and put an action to this specially if ur charging that much. Would not go back here for food. Not worth it.\n",
       "2096    Although I had the displeasure of going to Magic Castle, I have never yelped this place. I was only reminded of it when my friends went last night and told me of the wonderful time they had. I went with two friends almost 1 year ago. I remember my chicken partially raw when I cut into it, so I returned it and happily agreed for a new plate. The same plate with my cut-into chicken came back overdone, so I just didn't touch the plate. Because my friends were so scared of \"making a scene\", I left the plate and still payed WAY TOO MUCH for it. I was livid, hungry and now being dragged to a magic show. I was excited for it up until his first act, I saw exactly where he was hiding his ball. Then in his next act, I saw this piece of paper he made \"appear\" which came from behind him on the stage. This perplexed me even more since I was starving and watching a  pathetic excuse for magic. I turned to my friends, quietly said good night, had a friend pick me up and I swore to never return. I ...\n",
       "485                                                                                                                                                                                                                                                                                                                                                                                                                                                                                                 This place has definitely landed its' distinction as being the absolute MOST overrated Los Angeles purported 'landmark' EVER.  Over priced for mediocre food and mediocre magic. I, for one, have been far more intrigued by street performers on the Third Street Promenade. FOR FREE. The only upside? I'm glad that I had the opportunity to see for myself what I shall never voluntarily see again. If I ever grace this spot with my presence again--it would have to be as a result of a probationary sentence in lieu of jail time.\n",
       "861                                                                                                                                                                                                                      Came here for Sunday brunch and would never come again. $15 valet, $25 entrance fee, $45 for brunch plus tax and tip comes to about $100. It's extremely overpriced and just not worth it. The Magic Castle is very outdated and looks like it hasn't been updated in years, if not decades. There was a very, very small selection of food available for the buffet brunch. I've been to many other places for brunch and typically you get so much more when paying nearly $50. The magic was mediocre at best. It was mostly card tricks that one has seen many times before. I used the main level ladies room before leaving and there was a sound track playing of pooping and farting sounds. Considering you have to dress up to attend  this establishment I found that sound track to be in such poor taste.\n",
       "18                                                                                                                                                                                                                                                                                                                                                                                                                                                                                                                                    I'm just bumping my older review!Go ahead and pay to be a \"member\". This place has gone from amazing to sucky-@ss many years ago!  THEY SOLD OUT.  So, go ahead, and buy a \"membership,\" but just know that you are not getting the \"real\" experience as it used to be when I used to be a member and all the old-school magicians used to hangout here.   Now it sucks.  Just snobby and you have no idea how many amazing things are gone... good luck!   (The goodness disappeared like \"magic\"! LOL).\n",
       "234     Alright, so everyone knows the magic castle as this super exclusive, super mysterious place that you can only get in with an invite. All I gotta say is that it's not worthy. The frustration that comes with this place starts even before you get here with more than hour long holds on the phone to even place a reservation. We get here and we're charged a $25 entrance fee per person, which isn't a big deal if we weren't charged wayy more as the day progressed. We started off going to to two magic shows-- one of them was pointless (granted, it also was a kids show) and the close up show which was great (thank u to the Berkeley linguistics undergrad whose name I forgot). We quickly went up to the brunch-- THE WORST PART OF IT ALL. My group and I all ate different foods and everything was cold, soggy, and NOT worth the $200 (that we were not informed of) that they charge. We had to eat in a hurry and head to the next magic show that was supposed to be the main one and the one that you can...\n",
       "613                                                                                                                                                                                                                                                                                                                                                                                                                             The seance was not magical or spiritual in any way! I felt Disneyland could have created a more magical and realistic experience. It was easy to figure out how the tricks were being performed. (Look for the string as the the magician is holding when the doll \"moves\" her pencil.) The food and waiter was mediocre. For $1200, I'd expect much more attentiveness. The seance is NOT WORTH IT, NOT EVEN A LITTLE. I brought this up to the General Manager and he said it was a private club and any issues with the evening should have been brought up that night. I felt ripped off by the experience.\n",
       "514     This so-called \"exclusive club\" was a BIG let down. They are stricter than the WHITE HOUSE !!! I was wearing a nice and formal romper with a jacket that had a zipper, the girl in the front told me I had to check in my jacket because of the zipper...ok...  I took off my jacket and gave to her. Then she saw my romper and said \"you need to wear a skirt because you're wearing shorts\". No, I'm wearing a romper, so I had to go to the back and put on some skirt that looked like it was from a dead lady 100 years ago and who knows how long ago its been washed. Ok, magic castle already gave me a bad first impression at the entrance.Onto the food. Service was so slowwww. Took us an HOUR to get our food and it wasn't even worth the money we had to spend. The best tasting of the night was my friend's prime rib so I suggest that. Now the shows: I was expecting something AMAZING being this is the magic castle and all... but NOPE! Their magic was like something you see on the streets.. for free. W...\n",
       "Name: Review, dtype: object"
      ]
     },
     "execution_count": 60,
     "metadata": {},
     "output_type": "execute_result"
    }
   ],
   "source": [
    "X_test[(y_test == 'negative') & (y_pred_cv1 == 'positive')]"
   ]
  },
  {
   "cell_type": "markdown",
   "metadata": {},
   "source": [
    "## False Negatives"
   ]
  },
  {
   "cell_type": "code",
   "execution_count": 61,
   "metadata": {},
   "outputs": [
    {
     "data": {
      "text/plain": [
       "92                                                                                                                                                                                                                                                                                                                                                                           We had a great time. Food was overpriced & nothing to brag about. This was our 2nd time here & probably won't be back soon.The $35 entrance fee is ridiculous to say the least.$25 valet etc. Magic was pretty good but the Castle gets way to crowded & you can't get in to see the Magician you want unless you stand in line which seemed like forever and then your missing the other performances. For what you have to pay for the experience, I would have liked to see more magic but again, it was way to crowded & the Castle is not the big.Very disappointed\n",
       "212    Dress code:Men- suit and tie Woman- dressShow up early to catch the preshows. I showed up a little late so I only had time to watch one of them before the main show. Each preshow/room has its own bar. I was sipping on whiskey the whole night. The magicians are funny and talented. It was very entertaining. I found myself at awe at some of the things I saw. Food: The food is what I call rich people portions. Not much in quantity but the quality makes up for it. My plate was around 50 bucks. We were in a group of 6, so add some appetizers, and a shit load of alcohol. After seeing the bill I wanted to perform a magic trick of my own called the dine and dash (Jk)Overall good experience. Keep the vampire hunting kit at home, you won't need it here. Not during the hours of operation anyway... lol. Worthy of 5 stars. P.S. Neil Patrick Harris should star in his own AMC series called, \"The Walking A$$hole\".\n",
       "Name: Review, dtype: object"
      ]
     },
     "execution_count": 61,
     "metadata": {},
     "output_type": "execute_result"
    }
   ],
   "source": [
    "X_test[(y_test == 'positive') & (y_pred_cv1 == 'negative')]"
   ]
  },
  {
   "cell_type": "code",
   "execution_count": null,
   "metadata": {},
   "outputs": [],
   "source": []
  }
 ],
 "metadata": {
  "kernelspec": {
   "display_name": "Python 3",
   "language": "python",
   "name": "python3"
  },
  "language_info": {
   "codemirror_mode": {
    "name": "ipython",
    "version": 3
   },
   "file_extension": ".py",
   "mimetype": "text/x-python",
   "name": "python",
   "nbconvert_exporter": "python",
   "pygments_lexer": "ipython3",
   "version": "3.7.3"
  }
 },
 "nbformat": 4,
 "nbformat_minor": 2
}
